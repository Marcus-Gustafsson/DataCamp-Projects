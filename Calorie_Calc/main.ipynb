{
 "cells": [
  {
   "cell_type": "markdown",
   "id": "e18662c4-17a9-49b2-be10-2a4c3f92d5cd",
   "metadata": {
    "collapsed": false,
    "jupyter": {
     "outputs_hidden": false,
     "source_hidden": false
    }
   },
   "source": [
    "\n",
    "As a Software Engineer in a Health and Leisure company, your task is to add a new feature to the app: a calorie and nutrition calculator. \n",
    "This tool will calculate and display total calories, sugars, fats, and other nutritional values for different foods based on user input.\n",
    "\n",
    "You have been provided with the `nutrition.json` dataset, which contains the necessary nutritional information for various foods. \n",
    "Each value in the dataset is per **100 grams** of the food item. \n",
    "\n",
    "## Dataset Summary\n",
    "\n",
    "`nutrition.json`\n",
    "\n",
    "| Column        | Description                                             |\n",
    "|---------------|---------------------------------------------------------|\n",
    "| `food` | The name of the food.                                   |\n",
    "| `calories`  | The amount of energy provided by the food, measured in kilocalories (kcal) per 100 grams. |\n",
    "| `total_fat` | The total fat content in grams per 100 grams.                         |\n",
    "| `protein`   | The protein content in grams per 100 grams.                           |\n",
    "| `carbohydrate` | The total carbohydrate content in grams per 100 grams.             |\n",
    "| `sugars`    | The amount of sugars in grams per 100 grams.                          |\n",
    "\n",
    "### Let's Get Started!\n",
    "\n",
    "This project is a great opportunity to build a real-world feature from scratch, showcasing your development skills and making a meaningful impact on users' health and wellness."
   ]
  },
  {
   "cell_type": "code",
   "execution_count": 93,
   "id": "8ba1bb9b-f1be-4285-b6c2-7e2486f8075c",
   "metadata": {
    "executionCancelledAt": null,
    "executionTime": 2622,
    "lastExecutedAt": 1715952032223,
    "lastExecutedByKernel": "3a96783a-1e14-4ae9-aa52-9cd534674c44",
    "lastScheduledRunId": null,
    "lastSuccessfullyExecutedCode": "import json  # Import the json module to work with JSON files\n\n# Open the nutrition.json file in read mode and load its content into a dictionary\nwith open('nutrition.json', 'r') as json_file:\n    nutrition_dict = json.load(json_file)  # Load the JSON content into a dictionary\n    \n# Display the first 3 items of the nutrition dictionary\nlist(nutrition_dict.items())[:3]",
    "outputsMetadata": {
     "0": {
      "height": 192,
      "type": "dataFrame"
     }
    }
   },
   "outputs": [
    {
     "data": {
      "text/plain": [
       "[('Cornstarch',\n",
       "  {'calories': 381,\n",
       "   'total_fat': 0.1,\n",
       "   'protein': 0.26,\n",
       "   'carbohydrate': 91.27,\n",
       "   'sugars': 0.0}),\n",
       " ('Nuts, pecans',\n",
       "  {'calories': 691,\n",
       "   'total_fat': 72.0,\n",
       "   'protein': 9.17,\n",
       "   'carbohydrate': 13.86,\n",
       "   'sugars': 3.97}),\n",
       " ('Eggplant, raw',\n",
       "  {'calories': 25,\n",
       "   'total_fat': 0.2,\n",
       "   'protein': 0.98,\n",
       "   'carbohydrate': 5.88,\n",
       "   'sugars': 3.53})]"
      ]
     },
     "execution_count": 93,
     "metadata": {},
     "output_type": "execute_result"
    }
   ],
   "source": [
    "import json  # Import the json module to work with JSON files\n",
    "\n",
    "# Open the nutrition.json file in read mode and load its content into a dictionary\n",
    "with open('nutrition.json', 'r') as json_file:\n",
    "    nutrition_dict = json.load(json_file)  # Load the JSON content into a dictionary\n",
    "    \n",
    "# Display the first 3 items of the nutrition dictionary\n",
    "list(nutrition_dict.items())[:3]"
   ]
  },
  {
   "cell_type": "markdown",
   "id": "2b0e6e90",
   "metadata": {},
   "source": [
    "### Enhance the Diet Coach app by creating the **nutritional_summary()** function to calculate and return the total nutritional values from the nutrition_dict dataset.\n",
    "\n",
    "\n",
    "#### Function Output:\n",
    "\n",
    "- If all the foods are present in the dataset, the function returns a dictionary with keys: \"calories\", \"total_fat\", \"protein\", \"carbohydrate\", \"sugars\".\n",
    "\n",
    "- If any food is missing from the dataset, the function returns the name of the first missing item."
   ]
  },
  {
   "cell_type": "code",
   "execution_count": 94,
   "id": "9b446fce-3dc7-42ae-919b-908e1e3a6ae0",
   "metadata": {
    "executionCancelledAt": null,
    "executionTime": 47,
    "lastExecutedAt": 1715952032270,
    "lastExecutedByKernel": "3a96783a-1e14-4ae9-aa52-9cd534674c44",
    "lastScheduledRunId": null,
    "lastSuccessfullyExecutedCode": "# Start coding here!\n# Use as many cells as you need."
   },
   "outputs": [],
   "source": [
    "\n",
    "def nutritional_summary(foods: dict) -> dict | str:\n",
    "    \n",
    "    total_macros = {}\n",
    "\n",
    "    for food, grams_per_100 in foods.items():\n",
    "        grams_multi = grams_per_100/100 # \"/100\" as it is per 100 g for each macro group.\n",
    "        #print(f\"DBG: food = {food} & grams = {grams_per_100}\")\n",
    "        if food in nutrition_dict:\n",
    "            for macro, per_100 in nutrition_dict[food].items():\n",
    "                #print(f\"DBG: macro = {macro} & per_100 = {per_100}\")\n",
    "                if macro in total_macros.keys():\n",
    "                    total_macros[macro] = total_macros[macro] + round(per_100 * grams_multi, 3)\n",
    "                else:\n",
    "                    total_macros[macro] = round(per_100 * grams_multi, 3)\n",
    "        else:\n",
    "            return food\n",
    "    return total_macros"
   ]
  },
  {
   "cell_type": "markdown",
   "id": "3fa4e307",
   "metadata": {},
   "source": [
    "## Input Format:\n",
    "### Dictionary: For example, \n",
    "- Calling ```nutritional_summary({\"Croissants, cheese\": 150, \"Orange juice, raw\": 250})``` \n",
    "- Should give: ```{'calories': 733.5, 'total_fat': 32.0, 'protein': 15.55, 'carbohydrate': 96.5, 'sugars': 38.025}```\n",
    "- Here,         150 and 250 represent the grams of each food."
   ]
  },
  {
   "cell_type": "code",
   "execution_count": 95,
   "id": "e0d911ea",
   "metadata": {},
   "outputs": [
    {
     "data": {
      "text/plain": [
       "{'calories': 733.5,\n",
       " 'total_fat': 32.0,\n",
       " 'protein': 15.55,\n",
       " 'carbohydrate': 96.5,\n",
       " 'sugars': 38.025}"
      ]
     },
     "execution_count": 95,
     "metadata": {},
     "output_type": "execute_result"
    }
   ],
   "source": [
    "nutritional_summary({\"Croissants, cheese\": 150, \"Orange juice, raw\": 250})"
   ]
  },
  {
   "cell_type": "markdown",
   "id": "36c9728e",
   "metadata": {},
   "source": [
    "## Input Format:\n",
    "### Handling non-existent keys: \n",
    "- For example, calling ```nutritional_summary({\"Croissant\": 150, \"Orange juice\": 250})``` should output ```\"Croissant\"```"
   ]
  },
  {
   "cell_type": "code",
   "execution_count": 96,
   "id": "e4f69936",
   "metadata": {},
   "outputs": [
    {
     "data": {
      "text/plain": [
       "'Croissant'"
      ]
     },
     "execution_count": 96,
     "metadata": {},
     "output_type": "execute_result"
    }
   ],
   "source": [
    "nutritional_summary({\"Croissant\": 150, \"Orange juice\": 250})"
   ]
  }
 ],
 "metadata": {
  "colab": {
   "name": "Welcome to DataCamp Workspaces.ipynb",
   "provenance": []
  },
  "kernelspec": {
   "display_name": "Python 3",
   "language": "python",
   "name": "python3"
  },
  "language_info": {
   "codemirror_mode": {
    "name": "ipython",
    "version": 3
   },
   "file_extension": ".py",
   "mimetype": "text/x-python",
   "name": "python",
   "nbconvert_exporter": "python",
   "pygments_lexer": "ipython3",
   "version": "3.10.12"
  }
 },
 "nbformat": 4,
 "nbformat_minor": 5
}
