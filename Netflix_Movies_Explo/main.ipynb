{
 "cells": [
  {
   "cell_type": "markdown",
   "id": "5962b2cd-17bb-4ec9-b2d5-68537ca26860",
   "metadata": {},
   "source": [
    "**Netflix**! What started in 1997 as a DVD rental service has since exploded into one of the largest entertainment and media companies.\n",
    "\n",
    "Given the large number of movies and series available on the platform, it is a perfect opportunity to flex your exploratory data analysis skills and dive into the entertainment industry.\n",
    "\n",
    "You work for a production company that specializes in nostalgic styles. You want to do some research on movies released in the 1990's. You'll delve into Netflix data and perform exploratory data analysis to better understand this awesome movie decade!\n",
    "\n",
    "You have been supplied with the dataset `netflix_data.csv`, along with the following table detailing the column names and descriptions. Feel free to experiment further after submitting!\n",
    "\n",
    "## The data\n",
    "### **netflix_data.csv**\n",
    "| Column | Description |\n",
    "|--------|-------------|\n",
    "| `show_id` | The ID of the show |\n",
    "| `type` | Type of show |\n",
    "| `title` | Title of the show |\n",
    "| `director` | Director of the show |\n",
    "| `cast` | Cast of the show |\n",
    "| `country` | Country of origin |\n",
    "| `date_added` | Date added to Netflix |\n",
    "| `release_year` | Year of Netflix release |\n",
    "| `duration` | Duration of the show in minutes |\n",
    "| `description` | Description of the show |\n",
    "| `genre` | Show genre |"
   ]
  },
  {
   "cell_type": "code",
   "execution_count": 11,
   "id": "320a3abc-8a36-4b2b-baaf-473325363a4d",
   "metadata": {
    "executionCancelledAt": null,
    "executionTime": 36,
    "lastExecutedAt": 1716304519424,
    "lastExecutedByKernel": "0d939945-001f-4d0d-a547-a84889cb9c27",
    "lastScheduledRunId": null,
    "lastSuccessfullyExecutedCode": "# Importing pandas and matplotlib\nimport pandas as pd\nimport matplotlib.pyplot as plt\n\n# Read in the Netflix CSV as a DataFrame\nnetflix_df = pd.read_csv(\"netflix_data.csv\")"
   },
   "outputs": [
    {
     "data": {
      "text/html": [
       "<div>\n",
       "<style scoped>\n",
       "    .dataframe tbody tr th:only-of-type {\n",
       "        vertical-align: middle;\n",
       "    }\n",
       "\n",
       "    .dataframe tbody tr th {\n",
       "        vertical-align: top;\n",
       "    }\n",
       "\n",
       "    .dataframe thead th {\n",
       "        text-align: right;\n",
       "    }\n",
       "</style>\n",
       "<table border=\"1\" class=\"dataframe\">\n",
       "  <thead>\n",
       "    <tr style=\"text-align: right;\">\n",
       "      <th></th>\n",
       "      <th>show_id</th>\n",
       "      <th>type</th>\n",
       "      <th>title</th>\n",
       "      <th>director</th>\n",
       "      <th>cast</th>\n",
       "      <th>country</th>\n",
       "      <th>date_added</th>\n",
       "      <th>release_year</th>\n",
       "      <th>duration</th>\n",
       "      <th>description</th>\n",
       "      <th>genre</th>\n",
       "    </tr>\n",
       "  </thead>\n",
       "  <tbody>\n",
       "    <tr>\n",
       "      <th>0</th>\n",
       "      <td>s2</td>\n",
       "      <td>Movie</td>\n",
       "      <td>7:19</td>\n",
       "      <td>Jorge Michel Grau</td>\n",
       "      <td>Demián Bichir, Héctor Bonilla, Oscar Serrano, ...</td>\n",
       "      <td>Mexico</td>\n",
       "      <td>December 23, 2016</td>\n",
       "      <td>2016</td>\n",
       "      <td>93</td>\n",
       "      <td>After a devastating earthquake hits Mexico Cit...</td>\n",
       "      <td>Dramas</td>\n",
       "    </tr>\n",
       "    <tr>\n",
       "      <th>1</th>\n",
       "      <td>s3</td>\n",
       "      <td>Movie</td>\n",
       "      <td>23:59</td>\n",
       "      <td>Gilbert Chan</td>\n",
       "      <td>Tedd Chan, Stella Chung, Henley Hii, Lawrence ...</td>\n",
       "      <td>Singapore</td>\n",
       "      <td>December 20, 2018</td>\n",
       "      <td>2011</td>\n",
       "      <td>78</td>\n",
       "      <td>When an army recruit is found dead, his fellow...</td>\n",
       "      <td>Horror Movies</td>\n",
       "    </tr>\n",
       "    <tr>\n",
       "      <th>2</th>\n",
       "      <td>s4</td>\n",
       "      <td>Movie</td>\n",
       "      <td>9</td>\n",
       "      <td>Shane Acker</td>\n",
       "      <td>Elijah Wood, John C. Reilly, Jennifer Connelly...</td>\n",
       "      <td>United States</td>\n",
       "      <td>November 16, 2017</td>\n",
       "      <td>2009</td>\n",
       "      <td>80</td>\n",
       "      <td>In a postapocalyptic world, rag-doll robots hi...</td>\n",
       "      <td>Action</td>\n",
       "    </tr>\n",
       "    <tr>\n",
       "      <th>3</th>\n",
       "      <td>s5</td>\n",
       "      <td>Movie</td>\n",
       "      <td>21</td>\n",
       "      <td>Robert Luketic</td>\n",
       "      <td>Jim Sturgess, Kevin Spacey, Kate Bosworth, Aar...</td>\n",
       "      <td>United States</td>\n",
       "      <td>January 1, 2020</td>\n",
       "      <td>2008</td>\n",
       "      <td>123</td>\n",
       "      <td>A brilliant group of students become card-coun...</td>\n",
       "      <td>Dramas</td>\n",
       "    </tr>\n",
       "    <tr>\n",
       "      <th>4</th>\n",
       "      <td>s6</td>\n",
       "      <td>TV Show</td>\n",
       "      <td>46</td>\n",
       "      <td>Serdar Akar</td>\n",
       "      <td>Erdal Beşikçioğlu, Yasemin Allen, Melis Birkan...</td>\n",
       "      <td>Turkey</td>\n",
       "      <td>July 1, 2017</td>\n",
       "      <td>2016</td>\n",
       "      <td>1</td>\n",
       "      <td>A genetics professor experiments with a treatm...</td>\n",
       "      <td>International TV</td>\n",
       "    </tr>\n",
       "  </tbody>\n",
       "</table>\n",
       "</div>"
      ],
      "text/plain": [
       "  show_id     type  title           director  \\\n",
       "0      s2    Movie   7:19  Jorge Michel Grau   \n",
       "1      s3    Movie  23:59       Gilbert Chan   \n",
       "2      s4    Movie      9        Shane Acker   \n",
       "3      s5    Movie     21     Robert Luketic   \n",
       "4      s6  TV Show     46        Serdar Akar   \n",
       "\n",
       "                                                cast        country  \\\n",
       "0  Demián Bichir, Héctor Bonilla, Oscar Serrano, ...         Mexico   \n",
       "1  Tedd Chan, Stella Chung, Henley Hii, Lawrence ...      Singapore   \n",
       "2  Elijah Wood, John C. Reilly, Jennifer Connelly...  United States   \n",
       "3  Jim Sturgess, Kevin Spacey, Kate Bosworth, Aar...  United States   \n",
       "4  Erdal Beşikçioğlu, Yasemin Allen, Melis Birkan...         Turkey   \n",
       "\n",
       "          date_added  release_year  duration  \\\n",
       "0  December 23, 2016          2016        93   \n",
       "1  December 20, 2018          2011        78   \n",
       "2  November 16, 2017          2009        80   \n",
       "3    January 1, 2020          2008       123   \n",
       "4       July 1, 2017          2016         1   \n",
       "\n",
       "                                         description             genre  \n",
       "0  After a devastating earthquake hits Mexico Cit...            Dramas  \n",
       "1  When an army recruit is found dead, his fellow...     Horror Movies  \n",
       "2  In a postapocalyptic world, rag-doll robots hi...            Action  \n",
       "3  A brilliant group of students become card-coun...            Dramas  \n",
       "4  A genetics professor experiments with a treatm...  International TV  "
      ]
     },
     "execution_count": 11,
     "metadata": {},
     "output_type": "execute_result"
    }
   ],
   "source": [
    "# Importing pandas and matplotlib\n",
    "import pandas as pd\n",
    "import matplotlib.pyplot as plt\n",
    "\n",
    "# Read in the Netflix CSV as a DataFrame\n",
    "netflix_df = pd.read_csv(\"netflix_data.csv\")\n",
    "netflix_df.head() #checks few first"
   ]
  },
  {
   "cell_type": "markdown",
   "id": "6d3cadb2",
   "metadata": {},
   "source": [
    "### What was the most frequent movie duration in the 1990s? \n",
    "- Save an approximate answer as an **integer** called **duration** (use 1990 as the decade's start year)."
   ]
  },
  {
   "cell_type": "code",
   "execution_count": 12,
   "id": "72658473-114f-49eb-bd4e-cc03c710834a",
   "metadata": {
    "executionCancelledAt": null,
    "executionTime": 9,
    "lastExecutedAt": 1716304521330,
    "lastExecutedByKernel": "0d939945-001f-4d0d-a547-a84889cb9c27",
    "lastScheduledRunId": null,
    "lastSuccessfullyExecutedCode": "# Start coding here! Use as many cells as you like"
   },
   "outputs": [
    {
     "data": {
      "image/png": "[encoded data removed]",
      "text/plain": [
       "<Figure size 640x480 with 1 Axes>"
      ]
     },
     "metadata": {},
     "output_type": "display_data"
    },
    {
     "name": "stdout",
     "output_type": "stream",
     "text": [
      "Most frequent duration is: 94\n"
     ]
    }
   ],
   "source": [
    "the_1990s_movies = netflix_df.loc[(netflix_df[\"release_year\"] >= 1990) & (netflix_df[\"release_year\"] <= 1999) & (netflix_df[\"type\"] == \"Movie\")]\n",
    "\n",
    "duration_1990s = the_1990s_movies[\"duration\"]\n",
    "\n",
    "plt.hist(duration_1990s, 100)\n",
    "plt.xlabel(\"Duration (min)\")\n",
    "plt.ylabel(\"Nbr of movies\")\n",
    "plt.title(\"Movie durations in the 1990s\")\n",
    "plt.show()\n",
    "\n",
    "mode_value = duration_1990s.mode()\n",
    "\n",
    "if not mode_value.empty:\n",
    "    duration = int(mode_value.iloc[0])\n",
    "    print(f\"Most frequent duration is: {duration}\")\n",
    "else:\n",
    "    print(\"No mode found...\")\n"
   ]
  },
  {
   "cell_type": "markdown",
   "id": "d4e67384",
   "metadata": {},
   "source": [
    "### A movie is considered short if it is less than 90 minutes. \n",
    "- Count the number of short action movies released in the 1990s and save this **integer** as **short_movie_count**."
   ]
  },
  {
   "cell_type": "code",
   "execution_count": 13,
   "id": "81ddad69",
   "metadata": {},
   "outputs": [
    {
     "name": "stdout",
     "output_type": "stream",
     "text": [
      "Action movies shorter than 90 minutes in the 1990s: 7\n"
     ]
    }
   ],
   "source": [
    "short_actions_1990s_df = the_1990s_movies.loc[(the_1990s_movies[\"duration\"] < 90) & (the_1990s_movies[\"genre\"] == \"Action\")]\n",
    "short_movie_count = len(short_actions_1990s_df)\n",
    "print(f\"Action movies shorter than 90 minutes in the 1990s: {short_movie_count}\")"
   ]
  }
 ],
 "metadata": {
  "colab": {
   "name": "Welcome to DataCamp Workspaces.ipynb",
   "provenance": []
  },
  "editor": "DataLab",
  "kernelspec": {
   "display_name": ".venv",
   "language": "python",
   "name": "python3"
  },
  "language_info": {
   "codemirror_mode": {
    "name": "ipython",
    "version": 3
   },
   "file_extension": ".py",
   "mimetype": "text/x-python",
   "name": "python",
   "nbconvert_exporter": "python",
   "pygments_lexer": "ipython3",
   "version": "3.10.12"
  }
 },
 "nbformat": 4,
 "nbformat_minor": 5
}
