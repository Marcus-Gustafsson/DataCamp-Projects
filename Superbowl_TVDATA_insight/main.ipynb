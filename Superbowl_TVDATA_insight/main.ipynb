{
 "cells": [
  {
   "cell_type": "markdown",
   "id": "8ee01bde-19d6-437a-91ab-7d6d5cb73e38",
   "metadata": {},
   "source": [
    "Whether or not you like football, the Super Bowl is a spectacle. There's a little something for everyone at your Super Bowl party. Drama in the form of blowouts, comebacks, and controversy for the sports fan. There are the ridiculously expensive ads, some hilarious, others gut-wrenching, thought-provoking, and weird. The half-time shows with the biggest musicians in the world, sometimes riding giant mechanical tigers or leaping from the roof of the stadium. \n",
    "\n",
    "The dataset we'll use was scraped and polished from Wikipedia. It is made up of three CSV files, one with game data, one with TV data, and one with halftime musician data for 52 Super Bowls through 2018. \n",
    "\n",
    "## The Data\n",
    "\n",
    "Three datasets have been provided, and summaries and previews of each are presented below.\n",
    "\n",
    "### 1. **halftime_musicians.csv**\n",
    "\n",
    "This dataset contains information about the musicians who performed during the halftime shows of various Super Bowl games. The structure is shown below, and it applies to all remaining files.\n",
    "\n",
    "| Column       | Description                                                                                  |\n",
    "|--------------|----------------------------------------------------------------------------------------------|\n",
    "| `'super_bowl'` | The Super Bowl number (e.g., 52 for Super Bowl LII).                                         |\n",
    "| `'musician'`   | The name of the musician or musical group that performed during the halftime show.           |\n",
    "| `'num_songs'`  | The number of songs performed by the musician or group during the halftime show.             |\n",
    "\n",
    "### 2. **super_bowls.csv**\n",
    "\n",
    "This dataset provides details about each Super Bowl game, including the date, location, participating teams, and scores, including the points difference between the winning and losing team (`'difference_pts'`).\n",
    "\n",
    "### 3. **tv.csv**\n",
    "\n",
    "This dataset contains television viewership statistics and advertisement costs related to each Super Bowl."
   ]
  },
  {
   "cell_type": "code",
   "execution_count": 1,
   "id": "d142c0b1-9c0c-42cc-8d91-2f1650309c62",
   "metadata": {
    "executionCancelledAt": null,
    "executionTime": 1604,
    "lastExecutedAt": 1725038294208,
    "lastExecutedByKernel": "e7907c38-ba7e-4425-92a5-9bf65488ba44",
    "lastScheduledRunId": null,
    "lastSuccessfullyExecutedCode": "# Import libraries\nimport pandas as pd\nfrom matplotlib import pyplot as plt"
   },
   "outputs": [],
   "source": [
    "# Import libraries\n",
    "import pandas as pd\n",
    "from matplotlib import pyplot as plt"
   ]
  },
  {
   "cell_type": "code",
   "execution_count": 2,
   "id": "cd83fe09-cd21-464a-a4fe-7ea9b35e44bf",
   "metadata": {
    "executionCancelledAt": null,
    "executionTime": 51,
    "lastExecutedAt": 1725038294261,
    "lastExecutedByKernel": "e7907c38-ba7e-4425-92a5-9bf65488ba44",
    "lastScheduledRunId": null,
    "lastSuccessfullyExecutedCode": "# Load the CSV data into DataFrames\nsuper_bowls = pd.read_csv(\"datasets/super_bowls.csv\")\nsuper_bowls.head()",
    "outputsMetadata": {
     "0": {
      "height": 550,
      "tableState": {
       "quickFilterText": ""
      },
      "type": "dataFrame"
     }
    }
   },
   "outputs": [
    {
     "data": {
      "application/com.datacamp.data-table.v2+json": {
       "table": {
        "data": {
         "attendance": [
          67612,
          70807,
          71088,
          70288,
          82529
         ],
         "city": [
          "Minneapolis",
          "Houston",
          "Santa Clara",
          "Glendale",
          "East Rutherford"
         ],
         "coach_loser": [
          "Bill Belichick",
          "Dan Quinn",
          "Ron Rivera",
          "Pete Carroll",
          "John Fox"
         ],
         "coach_winner": [
          "Doug Pederson",
          "Bill Belichick",
          "Gary Kubiak",
          "Bill Belichick",
          "Pete Carroll"
         ],
         "combined_pts": [
          74,
          62,
          34,
          52,
          51
         ],
         "date": [
          "2018-02-04",
          "2017-02-05",
          "2016-02-07",
          "2015-02-01",
          "2014-02-02"
         ],
         "difference_pts": [
          8,
          6,
          14,
          4,
          35
         ],
         "index": [
          0,
          1,
          2,
          3,
          4
         ],
         "losing_pts": [
          33,
          28,
          10,
          24,
          8
         ],
         "qb_loser_1": [
          "Tom Brady",
          "Matt Ryan",
          "Cam Newton",
          "Russell Wilson",
          "Peyton Manning"
         ],
         "qb_loser_2": [
          null,
          null,
          null,
          null,
          null
         ],
         "qb_winner_1": [
          "Nick Foles",
          "Tom Brady",
          "Peyton Manning",
          "Tom Brady",
          "Russell Wilson"
         ],
         "qb_winner_2": [
          null,
          null,
          null,
          null,
          null
         ],
         "state": [
          "Minnesota",
          "Texas",
          "California",
          "Arizona",
          "New Jersey"
         ],
         "super_bowl": [
          52,
          51,
          50,
          49,
          48
         ],
         "team_loser": [
          "New England Patriots",
          "Atlanta Falcons",
          "Carolina Panthers",
          "Seattle Seahawks",
          "Denver Broncos"
         ],
         "team_winner": [
          "Philadelphia Eagles",
          "New England Patriots",
          "Denver Broncos",
          "New England Patriots",
          "Seattle Seahawks"
         ],
         "venue": [
          "U.S. Bank Stadium",
          "NRG Stadium",
          "Levi's Stadium",
          "University of Phoenix Stadium",
          "MetLife Stadium"
         ],
         "winning_pts": [
          41,
          34,
          24,
          28,
          43
         ]
        },
        "schema": {
         "fields": [
          {
           "name": "index",
           "type": "integer"
          },
          {
           "name": "date",
           "type": "string"
          },
          {
           "name": "super_bowl",
           "type": "integer"
          },
          {
           "name": "venue",
           "type": "string"
          },
          {
           "name": "city",
           "type": "string"
          },
          {
           "name": "state",
           "type": "string"
          },
          {
           "name": "attendance",
           "type": "integer"
          },
          {
           "name": "team_winner",
           "type": "string"
          },
          {
           "name": "winning_pts",
           "type": "integer"
          },
          {
           "name": "qb_winner_1",
           "type": "string"
          },
          {
           "name": "qb_winner_2",
           "type": "string"
          },
          {
           "name": "coach_winner",
           "type": "string"
          },
          {
           "name": "team_loser",
           "type": "string"
          },
          {
           "name": "losing_pts",
           "type": "integer"
          },
          {
           "name": "qb_loser_1",
           "type": "string"
          },
          {
           "name": "qb_loser_2",
           "type": "string"
          },
          {
           "name": "coach_loser",
           "type": "string"
          },
          {
           "name": "combined_pts",
           "type": "integer"
          },
          {
           "name": "difference_pts",
           "type": "integer"
          }
         ],
         "pandas_version": "1.4.0",
         "primaryKey": [
          "index"
         ]
        }
       },
       "total_rows": 5,
       "truncation_type": null
      },
      "text/html": [
       "<div>\n",
       "<style scoped>\n",
       "    .dataframe tbody tr th:only-of-type {\n",
       "        vertical-align: middle;\n",
       "    }\n",
       "\n",
       "    .dataframe tbody tr th {\n",
       "        vertical-align: top;\n",
       "    }\n",
       "\n",
       "    .dataframe thead th {\n",
       "        text-align: right;\n",
       "    }\n",
       "</style>\n",
       "<table border=\"1\" class=\"dataframe\">\n",
       "  <thead>\n",
       "    <tr style=\"text-align: right;\">\n",
       "      <th></th>\n",
       "      <th>date</th>\n",
       "      <th>super_bowl</th>\n",
       "      <th>venue</th>\n",
       "      <th>city</th>\n",
       "      <th>state</th>\n",
       "      <th>attendance</th>\n",
       "      <th>team_winner</th>\n",
       "      <th>winning_pts</th>\n",
       "      <th>qb_winner_1</th>\n",
       "      <th>qb_winner_2</th>\n",
       "      <th>coach_winner</th>\n",
       "      <th>team_loser</th>\n",
       "      <th>losing_pts</th>\n",
       "      <th>qb_loser_1</th>\n",
       "      <th>qb_loser_2</th>\n",
       "      <th>coach_loser</th>\n",
       "      <th>combined_pts</th>\n",
       "      <th>difference_pts</th>\n",
       "    </tr>\n",
       "  </thead>\n",
       "  <tbody>\n",
       "    <tr>\n",
       "      <th>0</th>\n",
       "      <td>2018-02-04</td>\n",
       "      <td>52</td>\n",
       "      <td>U.S. Bank Stadium</td>\n",
       "      <td>Minneapolis</td>\n",
       "      <td>Minnesota</td>\n",
       "      <td>67612</td>\n",
       "      <td>Philadelphia Eagles</td>\n",
       "      <td>41</td>\n",
       "      <td>Nick Foles</td>\n",
       "      <td>NaN</td>\n",
       "      <td>Doug Pederson</td>\n",
       "      <td>New England Patriots</td>\n",
       "      <td>33</td>\n",
       "      <td>Tom Brady</td>\n",
       "      <td>NaN</td>\n",
       "      <td>Bill Belichick</td>\n",
       "      <td>74</td>\n",
       "      <td>8</td>\n",
       "    </tr>\n",
       "    <tr>\n",
       "      <th>1</th>\n",
       "      <td>2017-02-05</td>\n",
       "      <td>51</td>\n",
       "      <td>NRG Stadium</td>\n",
       "      <td>Houston</td>\n",
       "      <td>Texas</td>\n",
       "      <td>70807</td>\n",
       "      <td>New England Patriots</td>\n",
       "      <td>34</td>\n",
       "      <td>Tom Brady</td>\n",
       "      <td>NaN</td>\n",
       "      <td>Bill Belichick</td>\n",
       "      <td>Atlanta Falcons</td>\n",
       "      <td>28</td>\n",
       "      <td>Matt Ryan</td>\n",
       "      <td>NaN</td>\n",
       "      <td>Dan Quinn</td>\n",
       "      <td>62</td>\n",
       "      <td>6</td>\n",
       "    </tr>\n",
       "    <tr>\n",
       "      <th>2</th>\n",
       "      <td>2016-02-07</td>\n",
       "      <td>50</td>\n",
       "      <td>Levi's Stadium</td>\n",
       "      <td>Santa Clara</td>\n",
       "      <td>California</td>\n",
       "      <td>71088</td>\n",
       "      <td>Denver Broncos</td>\n",
       "      <td>24</td>\n",
       "      <td>Peyton Manning</td>\n",
       "      <td>NaN</td>\n",
       "      <td>Gary Kubiak</td>\n",
       "      <td>Carolina Panthers</td>\n",
       "      <td>10</td>\n",
       "      <td>Cam Newton</td>\n",
       "      <td>NaN</td>\n",
       "      <td>Ron Rivera</td>\n",
       "      <td>34</td>\n",
       "      <td>14</td>\n",
       "    </tr>\n",
       "    <tr>\n",
       "      <th>3</th>\n",
       "      <td>2015-02-01</td>\n",
       "      <td>49</td>\n",
       "      <td>University of Phoenix Stadium</td>\n",
       "      <td>Glendale</td>\n",
       "      <td>Arizona</td>\n",
       "      <td>70288</td>\n",
       "      <td>New England Patriots</td>\n",
       "      <td>28</td>\n",
       "      <td>Tom Brady</td>\n",
       "      <td>NaN</td>\n",
       "      <td>Bill Belichick</td>\n",
       "      <td>Seattle Seahawks</td>\n",
       "      <td>24</td>\n",
       "      <td>Russell Wilson</td>\n",
       "      <td>NaN</td>\n",
       "      <td>Pete Carroll</td>\n",
       "      <td>52</td>\n",
       "      <td>4</td>\n",
       "    </tr>\n",
       "    <tr>\n",
       "      <th>4</th>\n",
       "      <td>2014-02-02</td>\n",
       "      <td>48</td>\n",
       "      <td>MetLife Stadium</td>\n",
       "      <td>East Rutherford</td>\n",
       "      <td>New Jersey</td>\n",
       "      <td>82529</td>\n",
       "      <td>Seattle Seahawks</td>\n",
       "      <td>43</td>\n",
       "      <td>Russell Wilson</td>\n",
       "      <td>NaN</td>\n",
       "      <td>Pete Carroll</td>\n",
       "      <td>Denver Broncos</td>\n",
       "      <td>8</td>\n",
       "      <td>Peyton Manning</td>\n",
       "      <td>NaN</td>\n",
       "      <td>John Fox</td>\n",
       "      <td>51</td>\n",
       "      <td>35</td>\n",
       "    </tr>\n",
       "  </tbody>\n",
       "</table>\n",
       "</div>"
      ],
      "text/plain": [
       "         date  super_bowl  ... combined_pts difference_pts\n",
       "0  2018-02-04          52  ...           74              8\n",
       "1  2017-02-05          51  ...           62              6\n",
       "2  2016-02-07          50  ...           34             14\n",
       "3  2015-02-01          49  ...           52              4\n",
       "4  2014-02-02          48  ...           51             35\n",
       "\n",
       "[5 rows x 18 columns]"
      ]
     },
     "execution_count": 2,
     "metadata": {},
     "output_type": "execute_result"
    }
   ],
   "source": [
    "# Load the CSV data into DataFrames\n",
    "super_bowls = pd.read_csv(\"datasets/super_bowls.csv\")\n",
    "super_bowls.head()"
   ]
  },
  {
   "cell_type": "code",
   "execution_count": 3,
   "id": "a6e17e28-6668-4ec1-a910-69b4c6805fd9",
   "metadata": {
    "executionCancelledAt": null,
    "executionTime": 54,
    "lastExecutedAt": 1725038294315,
    "lastExecutedByKernel": "e7907c38-ba7e-4425-92a5-9bf65488ba44",
    "lastScheduledRunId": null,
    "lastSuccessfullyExecutedCode": "tv = pd.read_csv(\"datasets/tv.csv\")\ntv.head()",
    "outputsMetadata": {
     "0": {
      "height": 550,
      "tableState": {
       "quickFilterText": ""
      },
      "type": "dataFrame"
     }
    }
   },
   "outputs": [
    {
     "data": {
      "application/com.datacamp.data-table.v2+json": {
       "table": {
        "data": {
         "ad_cost": [
          5000000,
          5000000,
          5000000,
          4500000,
          4000000
         ],
         "avg_us_viewers": [
          103390000,
          111319000,
          111864000,
          114442000,
          112191000
         ],
         "index": [
          0,
          1,
          2,
          3,
          4
         ],
         "network": [
          "NBC",
          "Fox",
          "CBS",
          "NBC",
          "Fox"
         ],
         "rating_18_49": [
          33.4,
          37.1,
          37.7,
          39.1,
          39.3
         ],
         "rating_household": [
          43.1,
          45.3,
          46.6,
          47.5,
          46.7
         ],
         "share_18_49": [
          78,
          79,
          79,
          79,
          77
         ],
         "share_household": [
          68,
          73,
          72,
          71,
          69
         ],
         "super_bowl": [
          52,
          51,
          50,
          49,
          48
         ],
         "total_us_viewers": [
          null,
          172000000,
          167000000,
          168000000,
          167000000
         ]
        },
        "schema": {
         "fields": [
          {
           "name": "index",
           "type": "integer"
          },
          {
           "name": "super_bowl",
           "type": "integer"
          },
          {
           "name": "network",
           "type": "string"
          },
          {
           "name": "avg_us_viewers",
           "type": "integer"
          },
          {
           "name": "total_us_viewers",
           "type": "number"
          },
          {
           "name": "rating_household",
           "type": "number"
          },
          {
           "name": "share_household",
           "type": "integer"
          },
          {
           "name": "rating_18_49",
           "type": "number"
          },
          {
           "name": "share_18_49",
           "type": "number"
          },
          {
           "name": "ad_cost",
           "type": "integer"
          }
         ],
         "pandas_version": "1.4.0",
         "primaryKey": [
          "index"
         ]
        }
       },
       "total_rows": 5,
       "truncation_type": null
      },
      "text/html": [
       "<div>\n",
       "<style scoped>\n",
       "    .dataframe tbody tr th:only-of-type {\n",
       "        vertical-align: middle;\n",
       "    }\n",
       "\n",
       "    .dataframe tbody tr th {\n",
       "        vertical-align: top;\n",
       "    }\n",
       "\n",
       "    .dataframe thead th {\n",
       "        text-align: right;\n",
       "    }\n",
       "</style>\n",
       "<table border=\"1\" class=\"dataframe\">\n",
       "  <thead>\n",
       "    <tr style=\"text-align: right;\">\n",
       "      <th></th>\n",
       "      <th>super_bowl</th>\n",
       "      <th>network</th>\n",
       "      <th>avg_us_viewers</th>\n",
       "      <th>total_us_viewers</th>\n",
       "      <th>rating_household</th>\n",
       "      <th>share_household</th>\n",
       "      <th>rating_18_49</th>\n",
       "      <th>share_18_49</th>\n",
       "      <th>ad_cost</th>\n",
       "    </tr>\n",
       "  </thead>\n",
       "  <tbody>\n",
       "    <tr>\n",
       "      <th>0</th>\n",
       "      <td>52</td>\n",
       "      <td>NBC</td>\n",
       "      <td>103390000</td>\n",
       "      <td>NaN</td>\n",
       "      <td>43.1</td>\n",
       "      <td>68</td>\n",
       "      <td>33.4</td>\n",
       "      <td>78.0</td>\n",
       "      <td>5000000</td>\n",
       "    </tr>\n",
       "    <tr>\n",
       "      <th>1</th>\n",
       "      <td>51</td>\n",
       "      <td>Fox</td>\n",
       "      <td>111319000</td>\n",
       "      <td>172000000.0</td>\n",
       "      <td>45.3</td>\n",
       "      <td>73</td>\n",
       "      <td>37.1</td>\n",
       "      <td>79.0</td>\n",
       "      <td>5000000</td>\n",
       "    </tr>\n",
       "    <tr>\n",
       "      <th>2</th>\n",
       "      <td>50</td>\n",
       "      <td>CBS</td>\n",
       "      <td>111864000</td>\n",
       "      <td>167000000.0</td>\n",
       "      <td>46.6</td>\n",
       "      <td>72</td>\n",
       "      <td>37.7</td>\n",
       "      <td>79.0</td>\n",
       "      <td>5000000</td>\n",
       "    </tr>\n",
       "    <tr>\n",
       "      <th>3</th>\n",
       "      <td>49</td>\n",
       "      <td>NBC</td>\n",
       "      <td>114442000</td>\n",
       "      <td>168000000.0</td>\n",
       "      <td>47.5</td>\n",
       "      <td>71</td>\n",
       "      <td>39.1</td>\n",
       "      <td>79.0</td>\n",
       "      <td>4500000</td>\n",
       "    </tr>\n",
       "    <tr>\n",
       "      <th>4</th>\n",
       "      <td>48</td>\n",
       "      <td>Fox</td>\n",
       "      <td>112191000</td>\n",
       "      <td>167000000.0</td>\n",
       "      <td>46.7</td>\n",
       "      <td>69</td>\n",
       "      <td>39.3</td>\n",
       "      <td>77.0</td>\n",
       "      <td>4000000</td>\n",
       "    </tr>\n",
       "  </tbody>\n",
       "</table>\n",
       "</div>"
      ],
      "text/plain": [
       "   super_bowl network  avg_us_viewers  ...  rating_18_49  share_18_49  ad_cost\n",
       "0          52     NBC       103390000  ...          33.4         78.0  5000000\n",
       "1          51     Fox       111319000  ...          37.1         79.0  5000000\n",
       "2          50     CBS       111864000  ...          37.7         79.0  5000000\n",
       "3          49     NBC       114442000  ...          39.1         79.0  4500000\n",
       "4          48     Fox       112191000  ...          39.3         77.0  4000000\n",
       "\n",
       "[5 rows x 9 columns]"
      ]
     },
     "execution_count": 3,
     "metadata": {},
     "output_type": "execute_result"
    }
   ],
   "source": [
    "tv = pd.read_csv(\"datasets/tv.csv\")\n",
    "tv.head()"
   ]
  },
  {
   "cell_type": "code",
   "execution_count": 4,
   "id": "5a89e5fb-796b-4a4d-b637-eda7e0acd50d",
   "metadata": {
    "executionCancelledAt": null,
    "executionTime": 47,
    "lastExecutedAt": 1725038294362,
    "lastExecutedByKernel": "e7907c38-ba7e-4425-92a5-9bf65488ba44",
    "lastScheduledRunId": null,
    "lastSuccessfullyExecutedCode": "halftime_musicians = pd.read_csv(\"datasets/halftime_musicians.csv\")\nhalftime_musicians.head()",
    "outputsMetadata": {
     "0": {
      "height": 550,
      "tableState": {
       "quickFilterText": ""
      },
      "type": "dataFrame"
     }
    }
   },
   "outputs": [
    {
     "data": {
      "application/com.datacamp.data-table.v2+json": {
       "table": {
        "data": {
         "index": [
          0,
          1,
          2,
          3,
          4
         ],
         "musician": [
          "Justin Timberlake",
          "University of Minnesota Marching Band",
          "Lady Gaga",
          "Coldplay",
          "Beyoncé"
         ],
         "num_songs": [
          11,
          1,
          7,
          6,
          3
         ],
         "super_bowl": [
          52,
          52,
          51,
          50,
          50
         ]
        },
        "schema": {
         "fields": [
          {
           "name": "index",
           "type": "integer"
          },
          {
           "name": "super_bowl",
           "type": "integer"
          },
          {
           "name": "musician",
           "type": "string"
          },
          {
           "name": "num_songs",
           "type": "number"
          }
         ],
         "pandas_version": "1.4.0",
         "primaryKey": [
          "index"
         ]
        }
       },
       "total_rows": 5,
       "truncation_type": null
      },
      "text/html": [
       "<div>\n",
       "<style scoped>\n",
       "    .dataframe tbody tr th:only-of-type {\n",
       "        vertical-align: middle;\n",
       "    }\n",
       "\n",
       "    .dataframe tbody tr th {\n",
       "        vertical-align: top;\n",
       "    }\n",
       "\n",
       "    .dataframe thead th {\n",
       "        text-align: right;\n",
       "    }\n",
       "</style>\n",
       "<table border=\"1\" class=\"dataframe\">\n",
       "  <thead>\n",
       "    <tr style=\"text-align: right;\">\n",
       "      <th></th>\n",
       "      <th>super_bowl</th>\n",
       "      <th>musician</th>\n",
       "      <th>num_songs</th>\n",
       "    </tr>\n",
       "  </thead>\n",
       "  <tbody>\n",
       "    <tr>\n",
       "      <th>0</th>\n",
       "      <td>52</td>\n",
       "      <td>Justin Timberlake</td>\n",
       "      <td>11.0</td>\n",
       "    </tr>\n",
       "    <tr>\n",
       "      <th>1</th>\n",
       "      <td>52</td>\n",
       "      <td>University of Minnesota Marching Band</td>\n",
       "      <td>1.0</td>\n",
       "    </tr>\n",
       "    <tr>\n",
       "      <th>2</th>\n",
       "      <td>51</td>\n",
       "      <td>Lady Gaga</td>\n",
       "      <td>7.0</td>\n",
       "    </tr>\n",
       "    <tr>\n",
       "      <th>3</th>\n",
       "      <td>50</td>\n",
       "      <td>Coldplay</td>\n",
       "      <td>6.0</td>\n",
       "    </tr>\n",
       "    <tr>\n",
       "      <th>4</th>\n",
       "      <td>50</td>\n",
       "      <td>Beyoncé</td>\n",
       "      <td>3.0</td>\n",
       "    </tr>\n",
       "  </tbody>\n",
       "</table>\n",
       "</div>"
      ],
      "text/plain": [
       "   super_bowl                               musician  num_songs\n",
       "0          52                      Justin Timberlake       11.0\n",
       "1          52  University of Minnesota Marching Band        1.0\n",
       "2          51                              Lady Gaga        7.0\n",
       "3          50                               Coldplay        6.0\n",
       "4          50                                Beyoncé        3.0"
      ]
     },
     "execution_count": 4,
     "metadata": {},
     "output_type": "execute_result"
    }
   ],
   "source": [
    "halftime_musicians = pd.read_csv(\"datasets/halftime_musicians.csv\")\n",
    "halftime_musicians.head()"
   ]
  },
  {
   "cell_type": "markdown",
   "id": "4ffe9230",
   "metadata": {},
   "source": [
    "#### Has TV viewership increased over time? Save your answer as a *boolean variable* named ``viewership_increased``."
   ]
  },
  {
   "cell_type": "code",
   "execution_count": 5,
   "id": "8de1e7f0-9164-4da8-97af-a3095ea15a32",
   "metadata": {
    "executionCancelledAt": null,
    "executionTime": 49,
    "lastExecutedAt": 1725038294411,
    "lastExecutedByKernel": "e7907c38-ba7e-4425-92a5-9bf65488ba44",
    "lastScheduledRunId": null,
    "lastSuccessfullyExecutedCode": "# Start coding here\n# Use as many cells as you need"
   },
   "outputs": [],
   "source": [
    "# Start coding here\n",
    "# Use as many cells as you need"
   ]
  },
  {
   "cell_type": "markdown",
   "id": "73eabb14",
   "metadata": {},
   "source": [
    "#### How many matches finished with a point *difference greater than 40*? Save your answer as an integer named ``difference``."
   ]
  },
  {
   "cell_type": "code",
   "execution_count": null,
   "id": "2b802253",
   "metadata": {},
   "outputs": [],
   "source": [
    "\n"
   ]
  },
  {
   "cell_type": "markdown",
   "id": "77e8717a",
   "metadata": {},
   "source": [
    "#### Who performed the most songs in Super Bowl halftime shows? Save your answer as a *string* named ``most_songs``."
   ]
  },
  {
   "cell_type": "code",
   "execution_count": null,
   "id": "a3c3662a",
   "metadata": {},
   "outputs": [],
   "source": []
  }
 ],
 "metadata": {
  "colab": {
   "name": "Welcome to DataCamp Workspaces.ipynb",
   "provenance": []
  },
  "kernelspec": {
   "display_name": "Python 3 (ipykernel)",
   "language": "python",
   "name": "python3"
  },
  "language_info": {
   "codemirror_mode": {
    "name": "ipython",
    "version": 3
   },
   "file_extension": ".py",
   "mimetype": "text/x-python",
   "name": "python",
   "nbconvert_exporter": "python",
   "pygments_lexer": "ipython3",
   "version": "3.10.12"
  }
 },
 "nbformat": 4,
 "nbformat_minor": 5
}
