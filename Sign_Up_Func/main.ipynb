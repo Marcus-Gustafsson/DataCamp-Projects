{
 "cells": [
  {
   "cell_type": "markdown",
   "id": "4a8145cb-8f2c-4133-b8d7-462b5310c6ea",
   "metadata": {},
   "source": [
    "You recently joined a small startup as a junior developer. The product managers have come to you for help improving new user sign-ups for the company's flagship mobile app.\n",
    "\n",
    "There are lots of invalid and incomplete sign-up attempts crashing the app. Before creating new accounts, you suggest standardizing validation checks by writing reusable Python functions to validate names, emails, passwords, etc. The managers love this idea and task you with coding core validation functions for improving sign-ups. It's your job to write these custom functions to check all user inputs to ensure they meet minimum criteria before account creation to reduce crashes."
   ]
  },
  {
   "cell_type": "code",
   "execution_count": 5,
   "id": "37988e6b-da88-4ca4-846c-06d7f8e7d740",
   "metadata": {
    "executionCancelledAt": null,
    "executionTime": 13,
    "lastExecutedAt": 1706528163923,
    "lastScheduledRunId": null,
    "lastSuccessfullyExecutedCode": "# Re-run this cell\n# Preloaded data for validating email domain.\ntop_level_domains = [\n    \".org\",\n    \".net\",\n    \".edu\",\n    \".ac\",\n    \"co.uk\",\n    \".com\"\n]"
   },
   "outputs": [],
   "source": [
    "# Re-run this cell\n",
    "# Preloaded data for validating email domain.\n",
    "top_level_domains = [\n",
    "    \".org\",\n",
    "    \".net\",\n",
    "    \".edu\",\n",
    "    \".ac\",\n",
    "    \".gov\",\n",
    "    \".com\",\n",
    "    \".io\"\n",
    "]"
   ]
  },
  {
   "cell_type": "markdown",
   "id": "cee51fe6",
   "metadata": {},
   "source": [
    "### Implement a function called ```validate_name()``` \n",
    "### that takes in one parameter, which will be a datatype of string to check the user has inputted a valid name.\n",
    "\n",
    "- The function should check that the user has inputted a name that is a data type of string.\n",
    "- The function should check that the name is greater than two characters long.\n",
    "- The function should return a boolean value, True if the name is valid, and False if not."
   ]
  },
  {
   "cell_type": "code",
   "execution_count": 6,
   "id": "178a7c62-d560-467e-8b64-c434db4eb255",
   "metadata": {
    "executionCancelledAt": null,
    "executionTime": 48,
    "lastExecutedAt": 1706528116152,
    "lastScheduledRunId": null,
    "lastSuccessfullyExecutedCode": "# Start coding here. Use as many cells as you need."
   },
   "outputs": [],
   "source": [
    "def validate_name(name: str) -> bool:\n",
    "    if type(name) == str and len(name) > 2:\n",
    "        return True\n",
    "    else:\n",
    "        return False"
   ]
  },
  {
   "cell_type": "code",
   "execution_count": 7,
   "id": "14794d46",
   "metadata": {},
   "outputs": [
    {
     "name": "stdout",
     "output_type": "stream",
     "text": [
      "DBG:True\n",
      "DBG:True\n",
      "DBG:False\n",
      "DBG:False\n",
      "DBG:False\n",
      "DBG:False\n"
     ]
    }
   ],
   "source": [
    "print(f\"DBG:{validate_name('Marcus')}\")\n",
    "print(f\"DBG:{validate_name('Mar')}\")\n",
    "print(f\"DBG:{validate_name('Ma')}\")\n",
    "print(f\"DBG:{validate_name('M')}\")\n",
    "print(f\"DBG:{validate_name('')}\")\n",
    "print(f\"DBG:{validate_name(123)}\")"
   ]
  },
  {
   "cell_type": "markdown",
   "id": "b0909ae5",
   "metadata": {},
   "source": [
    "### Implement a function called ```validate_email()``` \n",
    "### that takes in one parameter, which will be a datatype of string to check the user has inputted a valid email.\n",
    "\n",
    "- The function should check that the user has inputted an email that contains an '@' symbol.\n",
    "- The function should check that the email contains any top-level domain included in the top_level_domains list variable. This has been preloaded to the workbook for you.\n",
    "- The function should return a boolean value,True if the name is valid, and False if not."
   ]
  },
  {
   "cell_type": "code",
   "execution_count": 17,
   "id": "fb1a5c48",
   "metadata": {},
   "outputs": [],
   "source": [
    "def validate_email(email : str) -> bool:\n",
    "    if '@' in email:\n",
    "        for top_level_domain in top_level_domains:\n",
    "            if top_level_domain in email:\n",
    "                return True\n",
    "    return False"
   ]
  },
  {
   "cell_type": "code",
   "execution_count": 18,
   "id": "065725ab",
   "metadata": {},
   "outputs": [
    {
     "name": "stdout",
     "output_type": "stream",
     "text": [
      "True\n",
      "False\n",
      "False\n"
     ]
    }
   ],
   "source": [
    "print(validate_email('marcus@hotmail.org'))\n",
    "print(validate_email('marcus@hotmail.se'))\n",
    "print(validate_email('marcushotmail.net'))"
   ]
  }
 ],
 "metadata": {
  "colab": {
   "name": "Welcome to DataCamp Workspaces.ipynb",
   "provenance": []
  },
  "kernelspec": {
   "display_name": ".venv",
   "language": "python",
   "name": "python3"
  },
  "language_info": {
   "codemirror_mode": {
    "name": "ipython",
    "version": 3
   },
   "file_extension": ".py",
   "mimetype": "text/x-python",
   "name": "python",
   "nbconvert_exporter": "python",
   "pygments_lexer": "ipython3",
   "version": "3.10.12"
  }
 },
 "nbformat": 4,
 "nbformat_minor": 5
}
